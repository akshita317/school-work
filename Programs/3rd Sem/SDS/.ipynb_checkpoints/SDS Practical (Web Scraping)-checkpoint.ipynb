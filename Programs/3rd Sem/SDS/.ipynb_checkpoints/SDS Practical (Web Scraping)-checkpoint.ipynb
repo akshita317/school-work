{
 "cells": [
  {
   "cell_type": "code",
   "execution_count": 8,
   "id": "4b87753e",
   "metadata": {},
   "outputs": [
    {
     "data": {
      "text/plain": [
       "<Response [200]>"
      ]
     },
     "execution_count": 8,
     "metadata": {},
     "output_type": "execute_result"
    }
   ],
   "source": [
    "import requests\n",
    "HEADERS = ({'User-Agent':\n",
    "            'Mozilla/5.0 (X11; Linux x86_64) AppleWebKit/537.36 (KHTML, like Gecko) Chrome/44.0.2403.157 Safari/537.36',\n",
    "            'Accept-Language': 'en-US, en;q=0.5'})\n",
    "URL = \"https://www.amazon.com/OnePlus-Smartphone-Unlocked-co-Developed-Hasselblad/dp/B07XM54RWB/?_encoding=UTF8&pd_rd_w=cCIiV&content-id=amzn1.sym.7f957896-9457-4ac3-8c2b-58f2b6be2857&pf_rd_p=7f957896-9457-4ac3-8c2b-58f2b6be2857&pf_rd_r=99AN3DHVQT1B7FE7ZXCB&pd_rd_wg=RJk6w&pd_rd_r=72bb8a97-27e7-43b4-ac9d-0bde7181ce4f&ref_=pd_gw_exports_top_sellers_unrec\"\n",
    "webpage = requests.get(URL, headers=HEADERS)\n",
    "webpage"
   ]
  },
  {
   "cell_type": "code",
   "execution_count": 9,
   "id": "1d13669f",
   "metadata": {},
   "outputs": [
    {
     "ename": "AttributeError",
     "evalue": "'NoneType' object has no attribute 'string'",
     "output_type": "error",
     "traceback": [
      "\u001b[1;31m---------------------------------------------------------------------------\u001b[0m",
      "\u001b[1;31mAttributeError\u001b[0m                            Traceback (most recent call last)",
      "\u001b[1;32m~\\AppData\\Local\\Temp/ipykernel_16952/3052870170.py\u001b[0m in \u001b[0;36m<module>\u001b[1;34m\u001b[0m\n\u001b[0;32m      3\u001b[0m \u001b[0msoup\u001b[0m \u001b[1;33m=\u001b[0m \u001b[0mBeautifulSoup\u001b[0m\u001b[1;33m(\u001b[0m\u001b[0mwebpage\u001b[0m\u001b[1;33m.\u001b[0m\u001b[0mcontent\u001b[0m\u001b[1;33m,\u001b[0m \u001b[1;34m\"lxml\"\u001b[0m\u001b[1;33m)\u001b[0m\u001b[1;33m\u001b[0m\u001b[1;33m\u001b[0m\u001b[0m\n\u001b[0;32m      4\u001b[0m \u001b[0mtitle\u001b[0m \u001b[1;33m=\u001b[0m \u001b[0msoup\u001b[0m\u001b[1;33m.\u001b[0m\u001b[0mfind\u001b[0m\u001b[1;33m(\u001b[0m\u001b[1;34m\"span\"\u001b[0m\u001b[1;33m,\u001b[0m \u001b[0mattrs\u001b[0m\u001b[1;33m=\u001b[0m\u001b[1;33m{\u001b[0m\u001b[1;34m\"id\"\u001b[0m\u001b[1;33m:\u001b[0m\u001b[1;34m'productTitle'\u001b[0m\u001b[1;33m}\u001b[0m\u001b[1;33m)\u001b[0m\u001b[1;33m\u001b[0m\u001b[1;33m\u001b[0m\u001b[0m\n\u001b[1;32m----> 5\u001b[1;33m \u001b[0mtitle_value\u001b[0m \u001b[1;33m=\u001b[0m \u001b[0mtitle\u001b[0m\u001b[1;33m.\u001b[0m\u001b[0mstring\u001b[0m\u001b[1;33m\u001b[0m\u001b[1;33m\u001b[0m\u001b[0m\n\u001b[0m\u001b[0;32m      6\u001b[0m \u001b[0mtitle_string\u001b[0m \u001b[1;33m=\u001b[0m \u001b[0mtitle_value\u001b[0m\u001b[1;33m.\u001b[0m\u001b[0mstrip\u001b[0m\u001b[1;33m(\u001b[0m\u001b[1;33m)\u001b[0m\u001b[1;33m\u001b[0m\u001b[1;33m\u001b[0m\u001b[0m\n\u001b[0;32m      7\u001b[0m \u001b[0mprint\u001b[0m\u001b[1;33m(\u001b[0m\u001b[0mtype\u001b[0m\u001b[1;33m(\u001b[0m\u001b[0mtitle\u001b[0m\u001b[1;33m)\u001b[0m\u001b[1;33m)\u001b[0m\u001b[1;33m\u001b[0m\u001b[1;33m\u001b[0m\u001b[0m\n",
      "\u001b[1;31mAttributeError\u001b[0m: 'NoneType' object has no attribute 'string'"
     ]
    }
   ],
   "source": [
    "from bs4 import BeautifulSoup\n",
    "\n",
    "soup = BeautifulSoup(webpage.content, \"lxml\")\n",
    "title = soup.find(\"span\", attrs={\"id\":'productTitle'})\n",
    "title_value = title.string\n",
    "title_string = title_value.strip()\n",
    "print(type(title))\n",
    "print(type(title_value))\n",
    "print(type(title_string))\n",
    "print()\n",
    "\n",
    "print(\"Product Title = \", title_string)"
   ]
  },
  {
   "cell_type": "code",
   "execution_count": 10,
   "metadata": {},
   "outputs": [
    {
     "name": "stdout",
     "output_type": "stream",
     "text": [
      "Product Title = \n",
      "Product Price = \n",
      "Product Rating = \n",
      "Number of Product Reviews = \n",
      "Availability = \n"
     ]
    }
   ],
   "source": [
    "def get_title(soup):\n",
    "    try:\n",
    "        title = soup.find(\"span\", attrs={\"id\":'productTitle'})\n",
    "        title_value = title.string\n",
    "        title_string = title_value.strip()\n",
    "    except AttributeError:\n",
    "        title_string = \"\"\n",
    "    return title_string\n",
    "\n",
    "def get_price(soup):\n",
    "    try:\n",
    "        price = soup.find(\"span\", attrs={'id':'priceblock_ourprice'}).string.strip()\n",
    "    except AttributeError:\n",
    "        price = \"\"\n",
    "    return price\n",
    "\n",
    "def get_rating(soup):\n",
    "    try:\n",
    "        rating = soup.find(\"i\", attrs={'class':'a-icon a-icon-star a-star-4-5'}).string.strip()\n",
    "    except AttributeError:\n",
    "        try:\n",
    "            rating = soup.find(\"span\", attrs={'class':'a-icon-alt'}).string.strip()\n",
    "        except:\n",
    "            rating = \"\"\t\n",
    "    return rating\n",
    "\n",
    "def get_review_count(soup):\n",
    "    try:\n",
    "        review_count = soup.find(\"span\", attrs={'id':'acrCustomerReviewText'}).string.strip()\n",
    "    except AttributeError:\n",
    "        review_count = \"\"\n",
    "\n",
    "    return review_count\n",
    "\n",
    "def get_availability(soup):\n",
    "    try:\n",
    "        available = soup.find(\"div\", attrs={'id':'availability'})\n",
    "        available = available.find(\"span\").string.strip()\n",
    "    except AttributeError:\n",
    "        available = \"\"\n",
    "\n",
    "    return available\n",
    "\n",
    "print(\"Product Title =\", get_title(soup))\n",
    "print(\"Product Price =\", get_price(soup))\n",
    "print(\"Product Rating =\", get_rating(soup))\n",
    "print(\"Number of Product Reviews =\", get_review_count(soup))\n",
    "print(\"Availability =\", get_availability(soup))"
   ]
  },
  {
   "cell_type": "code",
   "execution_count": 11,
   "metadata": {},
   "outputs": [],
   "source": [
    "URL = \"https://www.amazon.com/s?k=laptops&crid=22A7V6AOF92GM&sprefix=laptops%2Caps%2C402&ref=nb_sb_noss_1\"\n",
    "webpage = requests.get(URL, headers=HEADERS)\n",
    "soup = BeautifulSoup(webpage.content, \"lxml\")\n",
    "links = soup.find_all(\"a\", attrs={'class':'a-link-normal s-no-outline'})\n",
    "links_list = []\n",
    "for link in links:\n",
    "    links_list.append(link.get('href'))\n",
    "    for link in links_list:\n",
    "        \n",
    "        new_webpage = requests.get(\"https://www.amazon.com\" + link, headers=HEADERS)\n",
    "        new_soup = BeautifulSoup(new_webpage.content, \"lxml\")\n",
    "        \n",
    "        print(\"Product Title =\", get_title(new_soup))\n",
    "        print(\"Product Price =\", get_price(new_soup))\n",
    "        print(\"Product Rating =\", get_rating(new_soup))\n",
    "        print(\"Number of Product Reviews =\", get_review_count(new_soup))\n",
    "        print(\"Availability =\", get_availability(new_soup))\n",
    "        print(\"----------------------------------------------------------------------------------------------\")"
   ]
  }
 ],
 "metadata": {
  "kernelspec": {
   "display_name": "Python 3",
   "language": "python",
   "name": "python3"
  },
  "language_info": {
   "codemirror_mode": {
    "name": "ipython",
    "version": 3
   },
   "file_extension": ".py",
   "mimetype": "text/x-python",
   "name": "python",
   "nbconvert_exporter": "python",
   "pygments_lexer": "ipython3",
   "version": "3.8.8"
  },
  "vscode": {
   "interpreter": {
    "hash": "0d591c6e422414675974e227c13f5382000c440fedd3c5006ef2be5d887f0ba7"
   }
  }
 },
 "nbformat": 4,
 "nbformat_minor": 2
}
